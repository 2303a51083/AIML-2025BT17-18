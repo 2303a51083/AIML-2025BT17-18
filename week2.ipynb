{
  "nbformat": 4,
  "nbformat_minor": 0,
  "metadata": {
    "colab": {
      "provenance": [],
      "toc_visible": true,
      "authorship_tag": "ABX9TyNe0/2j+EXepNIypg3FgbPc",
      "include_colab_link": true
    },
    "kernelspec": {
      "name": "python3",
      "display_name": "Python 3"
    },
    "language_info": {
      "name": "python"
    }
  },
  "cells": [
    {
      "cell_type": "markdown",
      "metadata": {
        "id": "view-in-github",
        "colab_type": "text"
      },
      "source": [
        "<a href=\"https://colab.research.google.com/github/2303a51083/AIML-2025BT17-18/blob/main/week2.ipynb\" target=\"_parent\"><img src=\"https://colab.research.google.com/assets/colab-badge.svg\" alt=\"Open In Colab\"/></a>"
      ]
    },
    {
      "cell_type": "code",
      "execution_count": 41,
      "metadata": {
        "colab": {
          "base_uri": "https://localhost:8080/"
        },
        "id": "FM7K9K-q1cPN",
        "outputId": "94ea3fbe-3c42-4d6d-d6aa-a003df29f81f"
      },
      "outputs": [
        {
          "output_type": "stream",
          "name": "stdout",
          "text": [
            "The adjacency List representing the graph is:\n",
            "{0: [1, 2, 3], 1: [0, 2], 2: [1, 3, 5], 3: [0, 2, 4], 4: [3, 5, 7], 5: [2, 4, 6, 7], 6: [5, 7], 7: []}\n",
            "BFS traversal of graph with source 1 is:\n",
            "1-->"
          ]
        }
      ],
      "source": [
        "from queue import Queue\n",
        "graph = {0: [1, 2, 3],\n",
        " 1: [0, 2],\n",
        " 2: [1, 3, 5],\n",
        " 3: [0, 2, 4],\n",
        " 4: [3, 5, 7],\n",
        " 5: [2, 4, 6, 7],\n",
        " 6: [5, 7],\n",
        " 7:[]}\n",
        "print(\"The adjacency List representing the graph is:\")\n",
        "print(graph)\n",
        "def bfs(graph, source):\n",
        " Q = Queue()\n",
        " visited_vertices = set()\n",
        " Q.put(source)\n",
        " visited_vertices.update({source})\n",
        " while not Q.empty():\n",
        "  vertex = Q.get()\n",
        " print(vertex, end=\"-->\")\n",
        " for u in graph[vertex]:\n",
        "  if u not in visited_vertices:\n",
        "    Q.put(u)\n",
        " visited_vertices.update({u})\n",
        "print(\"BFS traversal of graph with source 1 is:\")\n",
        "bfs(graph, 1)\n",
        "\n",
        "\n",
        "\n"
      ]
    },
    {
      "cell_type": "code",
      "source": [
        "#CODE FOR DFS:\n",
        "graph1 = {\n",
        " 'A' : ['B','C','G'],\n",
        " 'B' : ['A'],\n",
        " 'C' : ['A','D','F',],\n",
        " 'D' : ['A','C','E','H'],\n",
        " 'E' : ['D','H','F'],\n",
        " 'F' : ['C','E'],\n",
        " 'G' : ['A','D','H'],\n",
        " 'H' : ['D','E','G']\n",
        "}\n",
        "def dfs(graph, node, visited):\n",
        " if node not in visited:\n",
        "  visited.append(node)\n",
        " for k in graph[node]:\n",
        "  dfs(graph,k, visited)\n",
        " return visited\n",
        " visited = dfs(graph1,'B', [])\n",
        " print(visited)"
      ],
      "metadata": {
        "id": "N0ueZzD1-Tbe"
      },
      "execution_count": 42,
      "outputs": []
    }
  ]
}